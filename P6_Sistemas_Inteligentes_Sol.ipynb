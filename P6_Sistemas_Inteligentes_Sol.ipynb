{
  "nbformat": 4,
  "nbformat_minor": 0,
  "metadata": {
    "orig_nbformat": 4,
    "colab": {
      "provenance": []
    },
    "language_info": {
      "name": "python"
    },
    "kernelspec": {
      "name": "python3",
      "display_name": "Python 3"
    }
  },
  "cells": [
    {
      "cell_type": "markdown",
      "metadata": {
        "id": "GLrd5eBHFFLP"
      },
      "source": [
        "<a href=\"https://githubtocolab.com/jmvazqueznicolas/sistemas_inteligentes_22-1/blob/master/P6_Sistemas%20Inteligentes.ipynb\" target=\"_parent\"><img src=\"https://colab.research.google.com/assets/colab-badge.svg\" alt=\"Open in Colab\"/></a>"
      ]
    },
    {
      "cell_type": "markdown",
      "metadata": {
        "id": "vLphsiVKFFLY"
      },
      "source": [
        "## Práctica 6. Sistemas Inteligentes\n",
        "\n",
        "### Objetivos\n",
        "#### 1.- Que el alumno implemente una red neuronal básica.\n",
        "### Marco teórico\n",
        "#### El alumno debe investigar lo que son las redes neuronales."
      ]
    },
    {
      "cell_type": "markdown",
      "metadata": {
        "id": "-NcWHA48FFLZ"
      },
      "source": [
        "### Desarrollo"
      ]
    },
    {
      "cell_type": "markdown",
      "metadata": {
        "id": "G2oK2tXcFFLa"
      },
      "source": [
        "### 1.-  Crea un programa que permita reconocer digitos escritos a mano, usando un subconjunto de la base de datos [MNIST](https://interactivechaos.com/es/manual/tutorial-de-deep-learning/el-dataset-mnist). Utiliza una red neuronal básica para este programa.\n",
        "<img src=\"http://cs231n.github.io/assets/nn1/neural_net2.jpeg\" alt=\"nn\" style=\"width: 400px;\"/>"
      ]
    },
    {
      "cell_type": "code",
      "metadata": {
        "id": "E8DIMcRtFFLb"
      },
      "source": [
        "import tensorflow as tf\n",
        "from tensorflow.keras import Model, layers\n",
        "import numpy as np"
      ],
      "execution_count": null,
      "outputs": []
    },
    {
      "cell_type": "code",
      "metadata": {
        "id": "EDdWNWsyFiuu"
      },
      "source": [
        "num_classes = 10\n",
        "num_features = 784 # Tamaño de los datos (28x28=784) \n",
        "\n",
        "# Parametros del entrenamiento de la red neuronal (Hiperparamétros)\n",
        "learning_rate = 0.1\n",
        "epocas = 10\n",
        "batch_size = 256\n",
        "display_step = 50\n",
        "\n",
        "# Parametros de la red neuronal\n",
        "n_hidden_1 = 128\n",
        "n_hidden_2 = 256\n",
        "n_hidden_3 = 512\n",
        "n_hidden_4 = 512\n",
        "n_hidden_5 = 256\n",
        "n_hidden_6 = 256\n",
        "n_hidden_7 = 256\n",
        "n_hidden_8 = 128\n",
        "n_hidden_9 = 128\n",
        "n_hidden_10 = 128"
      ],
      "execution_count": null,
      "outputs": []
    },
    {
      "cell_type": "code",
      "metadata": {
        "id": "EOhWcnlFHA2r"
      },
      "source": [
        "# Descargar y preparar MNIST\n",
        "from tensorflow.keras.datasets import mnist \n",
        "(x_train, y_train), (x_test, y_test) = mnist.load_data()\n",
        "print(\"En numero de datos de entrenamiento\", len(y_train))\n",
        "print(\"En numero de datos de prueba\", len(y_test))\n",
        "print(\"La forma de los datos es\",x_train[0].shape)\n",
        "\n",
        "\n",
        "# Convertir datos \n",
        "x_train, x_test = np.array(x_train, np.float32), np.array(x_test, np.float32)\n",
        "print(\"La forma de la primer imagen antes del aplanado\", x_train.shape)\n",
        "# Aplanando\n",
        "x_train, x_test = x_train.reshape([-1, num_features]), x_test.reshape([-1, num_features])\n",
        "print(\"La forma de la primer imagen despues del aplanado\", x_train.shape)\n",
        "# Normalizacion\n",
        "x_train, x_test = x_train/255., x_test/255.\n",
        "print(\"El primer dato despues de la normalización\", x_train[0])"
      ],
      "execution_count": null,
      "outputs": []
    },
    {
      "cell_type": "code",
      "metadata": {
        "id": "r3082QaoKH3Y",
        "colab": {
          "base_uri": "https://localhost:8080/"
        },
        "outputId": "b6e78680-c133-41b5-dcb2-642729bdedf0"
      },
      "source": [
        "train_data = tf.data.Dataset.from_tensor_slices((x_train, y_train))\n",
        "train_data = train_data.repeat().shuffle(5000).batch(batch_size).prefetch(1)\n",
        "print(train_data)"
      ],
      "execution_count": null,
      "outputs": [
        {
          "output_type": "stream",
          "name": "stdout",
          "text": [
            "<PrefetchDataset element_spec=(TensorSpec(shape=(None, 784), dtype=tf.float32, name=None), TensorSpec(shape=(None,), dtype=tf.uint8, name=None))>\n"
          ]
        }
      ]
    },
    {
      "cell_type": "code",
      "metadata": {
        "id": "3LKDc7C4LCE_"
      },
      "source": [
        "# Clase para crear la red neuronal\n",
        "class NeuralNet(Model):\n",
        "  # Creando capas\n",
        "  def __init__(self):\n",
        "    super(NeuralNet, self).__init__()\n",
        "    # Primer capa densa (fuertemente conectada (todos-todos))\n",
        "    self.fc1 = layers.Dense(n_hidden_1, activation=tf.nn.relu)\n",
        "    self.fc2 = layers.Dense(n_hidden_2, activation=tf.nn.relu)\n",
        "    self.fc3 = layers.Dense(n_hidden_3, activation=tf.nn.relu)\n",
        "    self.fc4 = layers.Dense(n_hidden_4, activation=tf.nn.relu)\n",
        "    self.fc5 = layers.Dense(n_hidden_5, activation=tf.nn.relu)\n",
        "    self.fc6 = layers.Dense(n_hidden_1, activation=tf.nn.relu)\n",
        "    self.fc7 = layers.Dense(n_hidden_2, activation=tf.nn.relu)\n",
        "    self.fc8 = layers.Dense(n_hidden_3, activation=tf.nn.relu)\n",
        "    self.fc9 = layers.Dense(n_hidden_4, activation=tf.nn.relu)\n",
        "    self.fc10 = layers.Dense(n_hidden_5, activation=tf.nn.relu)\n",
        "    self.out = layers.Dense(num_classes)\n",
        "  \n",
        "  def call(self, x, is_training=False):\n",
        "    x = self.fc1(x)\n",
        "    x = self.fc2(x)\n",
        "    x = self.fc3(x)\n",
        "    x = self.fc4(x)\n",
        "    x = self.fc5(x)\n",
        "    x = self.fc6(x)\n",
        "    x = self.fc7(x)\n",
        "    x = self.fc8(x)\n",
        "    x = self.fc9(x)\n",
        "    x = self.fc10(x)\n",
        "    x = self.out(x)\n",
        "    if not is_training:\n",
        "      x = tf.nn.softmax(x)\n",
        "    return x\n",
        "\n",
        "# Se crea la red neuronal\n",
        "neural_net = NeuralNet()"
      ],
      "execution_count": null,
      "outputs": []
    },
    {
      "cell_type": "code",
      "metadata": {
        "id": "-eYA6r7MNqwt"
      },
      "source": [
        "# Funcion de pérdida\n",
        "def cross_entropy_loss(x, y):\n",
        "  y = tf.cast(y, tf.int64)\n",
        "  loss = tf.nn.sparse_softmax_cross_entropy_with_logits(labels=y, logits=x)\n",
        "  return tf.reduce_mean(loss)\n",
        "\n",
        "# Métricas\n",
        "def accuracy(y_pred, y_true):\n",
        "  correct_prediction = tf.equal(tf.argmax(y_pred, 1), tf.cast(y_true, tf.int64))\n",
        "  return tf.reduce_mean(tf.cast(correct_prediction, tf.float32), axis=-1)\n",
        "\n",
        "# Optimizador\n",
        "optimizer = tf.optimizers.SGD(learning_rate)"
      ],
      "execution_count": null,
      "outputs": []
    },
    {
      "cell_type": "code",
      "metadata": {
        "id": "4RWTWrXKHmv5"
      },
      "source": [
        "def run_optimization(x, y):\n",
        "  with tf.GradientTape() as g:\n",
        "    pred = neural_net(x, is_training=True)\n",
        "    # Calculando la función de pérdida\n",
        "    loss = cross_entropy_loss(pred, y)\n",
        "  # Paramétros de la red (pesos sinapticos)\n",
        "  trainable_variables = neural_net.trainable_variables\n",
        "  # Cálculo del gradiente\n",
        "  gradients = g.gradient(loss, trainable_variables)\n",
        "  optimizer.apply_gradients(zip(gradients, trainable_variables))\n",
        "\n"
      ],
      "execution_count": null,
      "outputs": []
    },
    {
      "cell_type": "code",
      "metadata": {
        "id": "wzZvlzHNKYmf",
        "colab": {
          "base_uri": "https://localhost:8080/"
        },
        "outputId": "f7a15e22-6c45-4a23-f7b9-74366ec1dac8"
      },
      "source": [
        "# Parametros del entrenamiento de la red neuronal (Hiperparamétros)\n",
        "learning_rate = 0.1\n",
        "epocas = 6000\n",
        "batch_size = 256\n",
        "display_step = 100\n",
        "neural_net = NeuralNet()\n",
        "\n",
        "# Inicio del entrenamiento\n",
        "for step, (batch_x, batch_y) in enumerate(train_data.take(epocas), 1):\n",
        "  run_optimization(batch_x, batch_y)\n",
        "  if step % display_step == 0:\n",
        "    pred = neural_net(batch_x, is_training=True)\n",
        "    loss = cross_entropy_loss(pred, batch_y)\n",
        "    acc = accuracy(pred, batch_y)\n",
        "    print(f\"epoca:{step}, loss:{loss}, acc:{acc}\")"
      ],
      "execution_count": null,
      "outputs": [
        {
          "output_type": "stream",
          "name": "stdout",
          "text": [
            "epoca:100, loss:1.72971773147583, acc:0.49609375\n",
            "epoca:200, loss:0.9617166519165039, acc:0.6328125\n",
            "epoca:300, loss:0.21734768152236938, acc:0.94140625\n",
            "epoca:400, loss:0.1984747350215912, acc:0.93359375\n",
            "epoca:500, loss:0.15656304359436035, acc:0.953125\n",
            "epoca:600, loss:0.11126787960529327, acc:0.97265625\n",
            "epoca:700, loss:0.10882722586393356, acc:0.96484375\n",
            "epoca:800, loss:0.07810398191213608, acc:0.984375\n",
            "epoca:900, loss:0.08489019423723221, acc:0.9765625\n",
            "epoca:1000, loss:0.07886683940887451, acc:0.9765625\n",
            "epoca:1100, loss:0.04815538972616196, acc:0.98828125\n",
            "epoca:1200, loss:0.046705685555934906, acc:0.984375\n",
            "epoca:1300, loss:0.031038636341691017, acc:0.9921875\n",
            "epoca:1400, loss:0.020464330911636353, acc:0.9921875\n",
            "epoca:1500, loss:0.04357253015041351, acc:0.984375\n",
            "epoca:1600, loss:0.033529412001371384, acc:0.99609375\n",
            "epoca:1700, loss:0.007553417235612869, acc:1.0\n",
            "epoca:1800, loss:0.054128848016262054, acc:0.98828125\n",
            "epoca:1900, loss:0.026309635490179062, acc:0.9921875\n",
            "epoca:2000, loss:0.022339951246976852, acc:0.99609375\n",
            "epoca:2100, loss:0.0146792558953166, acc:0.99609375\n",
            "epoca:2200, loss:0.04933234304189682, acc:0.99609375\n",
            "epoca:2300, loss:0.01074559148401022, acc:1.0\n",
            "epoca:2400, loss:0.009550141170620918, acc:0.99609375\n",
            "epoca:2500, loss:0.018911801278591156, acc:0.9921875\n",
            "epoca:2600, loss:0.008704856038093567, acc:1.0\n",
            "epoca:2700, loss:0.013396533206105232, acc:0.99609375\n",
            "epoca:2800, loss:0.00377444876357913, acc:1.0\n",
            "epoca:2900, loss:0.030144521966576576, acc:0.98828125\n",
            "epoca:3000, loss:0.01980501040816307, acc:0.99609375\n",
            "epoca:3100, loss:0.0029199374839663506, acc:1.0\n",
            "epoca:3200, loss:0.004011876415461302, acc:1.0\n",
            "epoca:3300, loss:0.09090305119752884, acc:0.97265625\n",
            "epoca:3400, loss:0.03898710012435913, acc:0.984375\n",
            "epoca:3500, loss:0.01855846866965294, acc:0.99609375\n",
            "epoca:3600, loss:0.008371426723897457, acc:1.0\n",
            "epoca:3700, loss:0.01905381865799427, acc:0.9921875\n",
            "epoca:3800, loss:0.02122299000620842, acc:0.99609375\n",
            "epoca:3900, loss:0.025415368378162384, acc:0.99609375\n",
            "epoca:4000, loss:0.019205288961529732, acc:0.99609375\n",
            "epoca:4100, loss:0.005887757521122694, acc:1.0\n",
            "epoca:4200, loss:0.0021437443792819977, acc:1.0\n",
            "epoca:4300, loss:34.44694519042969, acc:0.125\n",
            "epoca:4400, loss:0.46619656682014465, acc:0.85546875\n",
            "epoca:4500, loss:0.12884414196014404, acc:0.96875\n",
            "epoca:4600, loss:0.04219389334321022, acc:0.9921875\n",
            "epoca:4700, loss:0.009315837174654007, acc:1.0\n",
            "epoca:4800, loss:0.07485294342041016, acc:0.9765625\n",
            "epoca:4900, loss:0.03661201521754265, acc:0.9921875\n",
            "epoca:5000, loss:0.005302602890878916, acc:1.0\n",
            "epoca:5100, loss:0.018759790807962418, acc:0.99609375\n",
            "epoca:5200, loss:0.018715642392635345, acc:0.99609375\n",
            "epoca:5300, loss:0.03412024304270744, acc:0.98828125\n",
            "epoca:5400, loss:0.009680751711130142, acc:0.99609375\n",
            "epoca:5500, loss:0.004074977245181799, acc:1.0\n",
            "epoca:5600, loss:0.018157631158828735, acc:0.99609375\n",
            "epoca:5700, loss:0.029854843392968178, acc:1.0\n",
            "epoca:5800, loss:0.008332783356308937, acc:1.0\n",
            "epoca:5900, loss:0.002550779841840267, acc:1.0\n",
            "epoca:6000, loss:0.0025937713216990232, acc:1.0\n"
          ]
        }
      ]
    },
    {
      "cell_type": "code",
      "metadata": {
        "id": "oQa27zpPPWWA",
        "colab": {
          "base_uri": "https://localhost:8080/"
        },
        "outputId": "bec4d873-b75f-4a0e-9fa1-57263b2578b2"
      },
      "source": [
        "# Probando el modelo en el conjunto de prueba\n",
        "pred = neural_net(x_test, is_training=False)\n",
        "print(x_test.shape)\n",
        "print(f\"Acc en prueba: {accuracy(pred, y_test)}\")"
      ],
      "execution_count": null,
      "outputs": [
        {
          "output_type": "stream",
          "name": "stdout",
          "text": [
            "(10000, 784)\n",
            "Acc en prueba: 0.9781000018119812\n"
          ]
        }
      ]
    },
    {
      "cell_type": "code",
      "metadata": {
        "id": "YCH9hr_DQz-K"
      },
      "source": [
        "neural_net.summary()\n",
        "print(\"pesos que llegan a la primer capa\", (784*8) + 8)\n",
        "\n",
        "print(\"pesos que llegan a la segunda capa\", (8 * 16) + 16)\n",
        "\n",
        "print(\"pesos que llegan a la capa de salida\", (16*10) + 10)"
      ],
      "execution_count": null,
      "outputs": []
    },
    {
      "cell_type": "code",
      "metadata": {
        "id": "4CwmOHhrSKN8"
      },
      "source": [
        "import matplotlib.pyplot as plt\n",
        "n_images = 100\n",
        "test_images = x_test[:n_images]\n",
        "predictions = neural_net(test_images)\n",
        "\n",
        "# Mostrando las imagenes y su prediccion\n",
        "for i in range(n_images):\n",
        "  plt.imshow(np.reshape(test_images[i], [28, 28]), cmap='gray')\n",
        "  plt.show()\n",
        "  print(f\"Prediccion del modelo {np.argmax(predictions.numpy()[i])}\")"
      ],
      "execution_count": null,
      "outputs": []
    }
  ]
}
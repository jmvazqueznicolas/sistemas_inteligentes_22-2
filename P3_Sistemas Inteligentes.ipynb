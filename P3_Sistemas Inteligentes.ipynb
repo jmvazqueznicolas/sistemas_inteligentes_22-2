{
 "cells": [
  {
   "cell_type": "markdown",
   "source": [
    "<a href=\"https://githubtocolab.com/jmvazqueznicolas/sistemas_inteligentes_22-2/blob/master/P3_Sistemas%20Inteligentes.ipynb\" target=\"_parent\"><img src=\"https://colab.research.google.com/assets/colab-badge.svg\" alt=\"Open in Colab\"/></a>"
   ],
   "metadata": {}
  },
  {
   "cell_type": "markdown",
   "source": [
    "## Práctica 3. Sistemas Inteligentes\n",
    "\n",
    "### Objetivos\n",
    "#### 1.- Que el alumno conozca las funcionalidades de la biblioteca Numpy.\n",
    "#### 2.- Que el alumno grafique funciones con matplotlib.\n",
    "#### 3.- Que el alumno manipule archivos.\n",
    "\n",
    "### Marco teórico\n",
    "#### El alumno debe investigar la utilidad y aplicaciones de las bibliotecas Numpy y matplotlib."
   ],
   "metadata": {}
  },
  {
   "cell_type": "markdown",
   "source": [
    "### Desarrollo"
   ],
   "metadata": {}
  },
  {
   "cell_type": "markdown",
   "source": [
    "### 1.- Escribe un programa que guarde en un arreglo de Numpy, los primero 5 números de Fermat. Modifiquelo para que guarde los primeros 100.\n Hint: primero haga el cálculo con su calculadora",
    "$F_{n} = 2^{2^n} + 1$"
   ],
   "metadata": {}
  },
  {
   "cell_type": "code",
   "execution_count": null,
   "source": [],
   "outputs": [],
   "metadata": {}
  },
  {
   "cell_type": "markdown",
   "source": [
    "### 2.- Haga un programa que grafique la función seno. Para ello se le debe pedir al usuario los valores inicial y final así como el intervalo para la gráfica. Modifique el programa para que se grafique la función coseno, en el mismo intervalo. "
   ],
   "metadata": {}
  },
  {
   "cell_type": "code",
   "execution_count": null,
   "source": [],
   "outputs": [],
   "metadata": {}
  },
  {
   "cell_type": "markdown",
   "source": [
    "### 3.- Haga un programa que implemente los métodos para realizar para realizar cálculos con NumPy previamente revisados. Estas operaciones se harán con los Consumer Reach Points (CRPs), de las siguientes marcas de la tabla. Modifica el programa para que tambien haga los cálculos con las demas columnas numericas de la tabla.\n",
    "<img src=\"https://www.foodretail.es/2015/07/09/retailers/Coca-Cola-Colgate-marcas-mundiales-elegidas_906219374_91946_660x372.jpg\" width=400 height=400 />"
   ],
   "metadata": {}
  },
  {
   "cell_type": "code",
   "execution_count": null,
   "source": [],
   "outputs": [],
   "metadata": {}
  },
  {
   "cell_type": "markdown",
   "source": [
    "### 4.- Escriba un programa que guarde un archivo de texto (txt) los datos de la población de los siguientes estados de la república mexicana. Posteriormente abra el archivo y muestre el contenido. Posteriormente modifica el programa para que lo guarde en formato csv.\n",
    "\n",
    "<img src=\"https://i.ibb.co/x1LnjYT/estados.png\" alt=\"estados\" border=\"0\">\n"
   ],
   "metadata": {}
  },
  {
   "cell_type": "code",
   "execution_count": null,
   "source": [],
   "outputs": [],
   "metadata": {}
  }
 ],
 "metadata": {
  "orig_nbformat": 4,
  "language_info": {
   "name": "python"
  }
 },
 "nbformat": 4,
 "nbformat_minor": 2
}

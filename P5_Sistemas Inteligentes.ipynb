{
 "cells": [
  {
   "cell_type": "markdown",
   "metadata": {},
   "source": [
    "<a href=\"https://githubtocolab.com/jmvazqueznicolas/sistemas_inteligentes_22-2/blob/master/P5_Sistemas%20Inteligentes.ipynb\" target=\"_parent\"><img src=\"https://colab.research.google.com/assets/colab-badge.svg\" alt=\"Open in Colab\"/></a>"
   ]
  },
  {
   "cell_type": "markdown",
   "metadata": {},
   "source": [
    "## Práctica 5. Sistemas Inteligentes\n",
    "\n",
    "### Objetivos\n",
    "#### 1.- Que el alumno implemente algoritmos básicos de aprendizaje automático (Machine Learning).\n",
    "### Marco teórico\n",
    "#### El alumno debe investigar lo que es el Machine Learning y sus diferentes aplicaciones."
   ]
  },
  {
   "cell_type": "markdown",
   "metadata": {},
   "source": [
    "### Desarrollo"
   ]
  },
  {
   "cell_type": "markdown",
   "metadata": {},
   "source": [
    "### 1.-  Crea un programa que permita reconocer digitos escritos a mano, usando un subconjunto de la base de datos [MNIST](https://interactivechaos.com/es/manual/tutorial-de-deep-learning/el-dataset-mnist). Puedes probar un ejemplo de esta aplicación [aqui](https://gradio.app/)\n",
    "<img src=\"https://upload.wikimedia.org/wikipedia/commons/2/27/MnistExamples.png\" width=400 height=200 />"
   ]
  },
  {
   "cell_type": "code",
   "execution_count": null,
   "metadata": {},
   "outputs": [],
   "source": []
  },
  {
   "cell_type": "markdown",
   "metadata": {},
   "source": [
    "### 2.- Realice un programa que permita predecir la temperatura de una ciudad en los próximos años, dado su registro historico de temperaturas.\n",
    "<img src=\"https://as01.epimg.net/diarioas/imagenes/2021/08/14/actualidad/1628951597_949996_1628951773_noticia_normal_recorte1.jpg\" width=300 height=200 />"
   ]
  },
  {
   "cell_type": "code",
   "execution_count": null,
   "metadata": {},
   "outputs": [],
   "source": []
  },
  {
   "cell_type": "markdown",
   "metadata": {},
   "source": [
    "### 3.- Crea un programa que permita implementar un algoritmos de agrupamiento de los datos en el conjunto de datos [Iris Dataset](https://es.wikipedia.org/wiki/Conjunto_de_datos_flor_iris).\n",
    "<img src=\"https://miro.medium.com/max/1000/0*oUoXifiKu3tT5REt.png\" width=450 height=250 />"
   ]
  },
  {
   "cell_type": "code",
   "execution_count": null,
   "metadata": {},
   "outputs": [],
   "source": []
  }
 ],
 "metadata": {
  "language_info": {
   "name": "python"
  },
  "orig_nbformat": 4
 },
 "nbformat": 4,
 "nbformat_minor": 2
}

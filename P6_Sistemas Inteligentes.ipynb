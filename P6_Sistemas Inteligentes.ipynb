{
 "cells": [
  {
   "cell_type": "markdown",
   "metadata": {},
   "source": [
    "<a href=\"https://githubtocolab.com/jmvazqueznicolas/sistemas_inteligentes_22-2/blob/master/P6_Sistemas%20Inteligentes.ipynb\" target=\"_parent\"><img src=\"https://colab.research.google.com/assets/colab-badge.svg\" alt=\"Open in Colab\"/></a>"
   ]
  },
  {
   "cell_type": "markdown",
   "metadata": {},
   "source": [
    "## Práctica 6. Sistemas Inteligentes\n",
    "\n",
    "### Objetivos\n",
    "#### 1.- Que el alumno implemente una red neuronal básica.\n",
    "### Marco teórico\n",
    "#### El alumno debe investigar lo que son las redes neuronales."
   ]
  },
  {
   "cell_type": "markdown",
   "metadata": {},
   "source": [
    "### Desarrollo"
   ]
  },
  {
   "cell_type": "markdown",
   "metadata": {},
   "source": [
    "### 1.-  Crea un programa que permita reconocer digitos escritos a mano, usando un subconjunto de la base de datos [MNIST](https://interactivechaos.com/es/manual/tutorial-de-deep-learning/el-dataset-mnist). Utiliza una red neuronal básica para este programa.\n",
    "<img src=\"http://cs231n.github.io/assets/nn1/neural_net2.jpeg\" alt=\"nn\" style=\"width: 400px;\"/>"
   ]
  },
  {
   "cell_type": "code",
   "execution_count": null,
   "metadata": {},
   "outputs": [],
   "source": []
  }
 ],
 "metadata": {
  "language_info": {
   "name": "python"
  },
  "orig_nbformat": 4
 },
 "nbformat": 4,
 "nbformat_minor": 2
}

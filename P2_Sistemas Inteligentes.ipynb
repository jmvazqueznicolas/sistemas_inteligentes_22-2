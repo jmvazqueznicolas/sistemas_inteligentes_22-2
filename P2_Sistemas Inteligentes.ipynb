{
  "nbformat": 4,
  "nbformat_minor": 2,
  "metadata": {
    "colab": {
      "name": "Práctica 2. Sistemas Inteligentes",
      "provenance": [],
      "authorship_tag": "ABX9TyMgA7ZvdFXeAS2nrP5aO7T4",
      "include_colab_link": true
    },
    "kernelspec": {
      "name": "python3",
      "display_name": "Python 3.6.10 64-bit ('actumlogos-cpu-prueba': conda)"
    },
    "language_info": {
      "name": "python",
      "version": "3.6.10",
      "mimetype": "text/x-python",
      "codemirror_mode": {
        "name": "ipython",
        "version": 3
      },
      "pygments_lexer": "ipython3",
      "nbconvert_exporter": "python",
      "file_extension": ".py"
    },
    "interpreter": {
      "hash": "9275cb9e11faf44a24676a000d30cea17479a848a8b0091a4ac7b5a333b6ab87"
    }
  },
  "cells": [
    {
      "cell_type": "markdown",
      "source": [
        "<a href=\"https://githubtocolab.com/jmvazqueznicolas/sistemas_inteligentes_22-1/blob/master/P2_Sistemas%20Inteligentes.ipynb\" target=\"_parent\"><img src=\"https://colab.research.google.com/assets/colab-badge.svg\" alt=\"Open in Colab\"/></a>"
      ],
      "metadata": {}
    },
    {
      "cell_type": "markdown",
      "source": [
        "## Práctica 2. Sistemas Inteligentes\n",
        "\n",
        "### Objetivos\n",
        "#### 1.- Que el alumno conozca estructuras de datos como son las listas, las tuplas y los diccionarios en Python.\n",
        "#### 2.- Que el alumno implemente funciones en Python.\n",
        "\n",
        "### Marco teórico\n",
        "#### El alumno debe investigar la utilidad y aplicaciones de las listas, tuplas y diccionarios de Python."
      ],
      "metadata": {
        "id": "p7gQXSbxmAO4"
      }
    },
    {
      "cell_type": "markdown",
      "source": [
        "### Desarrollo"
      ],
      "metadata": {}
    },
    {
      "cell_type": "markdown",
      "source": [
        "### 1.- Para pagar impuestos en México, se debe ser mayor de 18 años y tener ingresos mayores a 400,000 pesos. Escribir un programa que permita saber, en función de datos proporcionados por el usuario, si deben presentar declaración o no. Otra condición para presentar la declaración, es haber tenido dos o más patrones en el año, aunque no se haya obtenido más de 400,000 pesos. Modifique el programa para esta condición."
      ],
      "metadata": {
        "id": "IjAnMSs2LJcb"
      }
    },
    {
      "cell_type": "code",
      "execution_count": null,
      "source": [],
      "outputs": [],
      "metadata": {
        "id": "FAsr9Krcle85"
      }
    },
    {
      "cell_type": "markdown",
      "source": [
        "### 2.- Escribe un programa que capture los nombres y las calificaciones de los alumnos de la clase. Estos datos deben ser agregados a una lista. Al final de la captura de datos, muestre el contenido de la lista generada. "
      ],
      "metadata": {
        "id": "bMR4BAjfLVBL"
      }
    },
    {
      "cell_type": "code",
      "execution_count": null,
      "source": [],
      "outputs": [],
      "metadata": {
        "id": "Q4ZN9-Rsl4eI"
      }
    },
    {
      "cell_type": "markdown",
      "source": [
        "### 3.- Crea una función que regrese el nombre de cierto mes del año, dado un número (i.e. enero→ 1 , febrero→ 2 , marzo → 3 , etc). Si el número no es válido, que regrese un mensaje que lo indique."
      ],
      "metadata": {}
    },
    {
      "cell_type": "code",
      "execution_count": null,
      "source": [],
      "outputs": [],
      "metadata": {}
    },
    {
      "cell_type": "markdown",
      "source": [
        "### 4.- Crea una función de suma de la población de dos estados de la república que reciba como parámetros (en forma de lista). Los datos de los estados y sus poblaciones deben estar almacenados en un diccionario. En una segunda celda, solicita al usuario los dos estados y manda a llamar la función, de la primer celda."
      ],
      "metadata": {}
    },
    {
      "cell_type": "code",
      "execution_count": null,
      "source": [],
      "outputs": [],
      "metadata": {
        "id": "TmSOmoODl6NK"
      }
    }
  ]
}
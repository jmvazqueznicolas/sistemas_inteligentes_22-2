{
  "nbformat": 4,
  "nbformat_minor": 0,
  "metadata": {
    "colab": {
      "name": "P7_Sistemas Inteligentes.ipynb",
      "provenance": [],
      "collapsed_sections": []
    },
    "kernelspec": {
      "name": "python3",
      "display_name": "Python 3"
    },
    "language_info": {
      "name": "python"
    },
    "accelerator": "GPU"
  },
  "cells": [
    {
      "cell_type": "markdown",
      "source": [
        "<a href=\"https://githubtocolab.com/jmvazqueznicolas/sistemas_inteligentes_22-2/blob/main/P7_Sistemas%20Inteligentes.ipynb\" target=\"_parent\"><img src=\"https://colab.research.google.com/assets/colab-badge.svg\" alt=\"Open in Colab\"/></a>"
      ],
      "metadata": {
        "id": "OYF3N4lc1qbp"
      }
    },
    {
      "cell_type": "markdown",
      "source": [
        "\n",
        "\n",
        "## Práctica 7. Sistemas Inteligentes\n",
        "###Objetivos\n",
        "####1.- Que el alumno implemente varios algoritmos básicos de ML para detectar una enfermedad.\n",
        "###Marco teórico\n",
        "####El alumno debe investigar lo que los algoritmos de ML utilizados en esta práctica (Máquina con soporte vectorial, árboles de decisión y red neuronal perceptron multicapa)\n"
      ],
      "metadata": {
        "id": "HfbB0GRH4p9P"
      }
    },
    {
      "cell_type": "markdown",
      "source": [
        "## Explorar los datos\n"
      ],
      "metadata": {
        "id": "GbxTrS_ptAeo"
      }
    },
    {
      "cell_type": "code",
      "execution_count": 2,
      "metadata": {
        "id": "8qAzUneflCZM"
      },
      "outputs": [],
      "source": [
        ""
      ]
    },
    {
      "cell_type": "code",
      "source": [
        ""
      ],
      "metadata": {
        "id": "5400mtbPtdNr"
      },
      "execution_count": null,
      "outputs": []
    },
    {
      "cell_type": "markdown",
      "source": [
        "### Separar los datos de la salida deseada"
      ],
      "metadata": {
        "id": "meEmdgebtoDn"
      }
    },
    {
      "cell_type": "code",
      "source": [
        ""
      ],
      "metadata": {
        "id": "RO45BC3ytkx2"
      },
      "execution_count": 4,
      "outputs": []
    },
    {
      "cell_type": "code",
      "source": [
        ""
      ],
      "metadata": {
        "id": "j-MgTmVKujNC"
      },
      "execution_count": null,
      "outputs": []
    },
    {
      "cell_type": "code",
      "source": [
        ""
      ],
      "metadata": {
        "id": "0RBYWUsMKrWO"
      },
      "execution_count": null,
      "outputs": []
    },
    {
      "cell_type": "code",
      "source": [
        ""
      ],
      "metadata": {
        "id": "1XamTXSYvF0n"
      },
      "execution_count": null,
      "outputs": []
    },
    {
      "cell_type": "markdown",
      "source": [
        "## Preparar los datos para su uso en machine learning"
      ],
      "metadata": {
        "id": "PiR-1Wc1v04E"
      }
    },
    {
      "cell_type": "code",
      "source": [
        ""
      ],
      "metadata": {
        "id": "IcNVezSPv5Gg"
      },
      "execution_count": null,
      "outputs": []
    },
    {
      "cell_type": "code",
      "source": [
        ""
      ],
      "metadata": {
        "id": "zk4253jwwbWe"
      },
      "execution_count": null,
      "outputs": []
    },
    {
      "cell_type": "code",
      "source": [
        ""
      ],
      "metadata": {
        "id": "ptIB1uSnwqtR"
      },
      "execution_count": 16,
      "outputs": []
    },
    {
      "cell_type": "code",
      "source": [
        ""
      ],
      "metadata": {
        "id": "dojB5cGU5216"
      },
      "execution_count": 17,
      "outputs": []
    },
    {
      "cell_type": "markdown",
      "source": [
        "# Support Vector Machine"
      ],
      "metadata": {
        "id": "V0qW-yku3DQF"
      }
    },
    {
      "cell_type": "code",
      "source": [
        ""
      ],
      "metadata": {
        "id": "qP6J3nbO3HxM"
      },
      "execution_count": 18,
      "outputs": []
    },
    {
      "cell_type": "code",
      "source": [
        ""
      ],
      "metadata": {
        "id": "qxF8UY3f5eI7"
      },
      "execution_count": null,
      "outputs": []
    },
    {
      "cell_type": "code",
      "source": [
        ""
      ],
      "metadata": {
        "id": "E7ZUMerD6JEf"
      },
      "execution_count": 20,
      "outputs": []
    },
    {
      "cell_type": "code",
      "source": [
        "# Observar los resultados del entrenamiento\n",
        "result = 0\n",
        "error = 0\n",
        "for i in range(len(resultado_svm)):\n",
        "  if resultado_svm[i] == y_train[i]:\n",
        "    result += 1\n",
        "  else:\n",
        "    error += 1\n",
        "print('De las ',len(resultado_svm), ' muestras, ', result, ' son correctas y ', error, ' son erroneas')\n",
        "print('Porcentaje de acierto: ', result/len(resultado_svm))"
      ],
      "metadata": {
        "id": "Gdw7WZjq6YGE",
        "colab": {
          "base_uri": "https://localhost:8080/"
        },
        "outputId": "0c06f2f8-7a14-4884-cc56-666ff5a3582c"
      },
      "execution_count": 21,
      "outputs": [
        {
          "output_type": "stream",
          "name": "stdout",
          "text": [
            "De las  500  muestras,  376  son correctas y  124  son erroneas\n",
            "Porcentaje de acierto:  0.752\n"
          ]
        }
      ]
    },
    {
      "cell_type": "markdown",
      "source": [
        "# Arboles de decision"
      ],
      "metadata": {
        "id": "ySJ19gih3IHK"
      }
    },
    {
      "cell_type": "code",
      "source": [
        ""
      ],
      "metadata": {
        "id": "cUcZ62gl3OgB"
      },
      "execution_count": 22,
      "outputs": []
    },
    {
      "cell_type": "code",
      "source": [
        ""
      ],
      "metadata": {
        "id": "DwFCdhiv9AGs"
      },
      "execution_count": null,
      "outputs": []
    },
    {
      "cell_type": "code",
      "source": [
        ""
      ],
      "metadata": {
        "id": "MXoLgy_x9KSX"
      },
      "execution_count": 24,
      "outputs": []
    },
    {
      "cell_type": "code",
      "source": [
        "# Observar los resultados del entrenamiento\n",
        "result = 0\n",
        "error = 0\n",
        "for i in range(len(resultado_dt)):\n",
        "  if resultado_dt[i] == y_train[i]:\n",
        "    result += 1\n",
        "  else:\n",
        "    error += 1\n",
        "print('De las ',len(resultado_dt), ' muestras, ', result, ' son correctas y ', error, ' son erroneas')\n",
        "print('Porcentaje de acierto: ', result/len(resultado_dt))"
      ],
      "metadata": {
        "id": "8Yftiwhs9RLR",
        "colab": {
          "base_uri": "https://localhost:8080/"
        },
        "outputId": "e73b16bf-0684-4488-dd41-b146205f8ffc"
      },
      "execution_count": 25,
      "outputs": [
        {
          "output_type": "stream",
          "name": "stdout",
          "text": [
            "De las  500  muestras,  500  son correctas y  0  son erroneas\n",
            "Porcentaje de acierto:  1.0\n"
          ]
        }
      ]
    },
    {
      "cell_type": "markdown",
      "source": [
        "# Multi-layer Perceptron (MLP)"
      ],
      "metadata": {
        "id": "Tnq5HqfA3O_Y"
      }
    },
    {
      "cell_type": "code",
      "source": [
        ""
      ],
      "metadata": {
        "id": "9HxqfNHd3Tvh"
      },
      "execution_count": 26,
      "outputs": []
    },
    {
      "cell_type": "code",
      "source": [
        ""
      ],
      "metadata": {
        "id": "7kybkyV5Cwen"
      },
      "execution_count": null,
      "outputs": []
    },
    {
      "cell_type": "code",
      "source": [
        ""
      ],
      "metadata": {
        "id": "rpNcF2a0C-eN"
      },
      "execution_count": 28,
      "outputs": []
    },
    {
      "cell_type": "code",
      "source": [
        "# Observar los resultados del entrenamiento\n",
        "result = 0\n",
        "error = 0\n",
        "for i in range(len(resultado_mlp)):\n",
        "  if resultado_mlp[i] == y_train[i]:\n",
        "    result += 1\n",
        "  else:\n",
        "    error += 1\n",
        "print('De las ',len(resultado_mlp), ' muestras, ', result, ' son correctas y ', error, ' son erroneas')\n",
        "print('Porcentaje de acierto: ', result/len(resultado_mlp))"
      ],
      "metadata": {
        "id": "oHV9dTkvDFGo",
        "colab": {
          "base_uri": "https://localhost:8080/"
        },
        "outputId": "718e0a8d-cde5-4af6-b62e-120ff2d74c55"
      },
      "execution_count": 29,
      "outputs": [
        {
          "output_type": "stream",
          "name": "stdout",
          "text": [
            "De las  500  muestras,  373  son correctas y  127  son erroneas\n",
            "Porcentaje de acierto:  0.746\n"
          ]
        }
      ]
    },
    {
      "cell_type": "markdown",
      "source": [
        "# Prueba en la realidad"
      ],
      "metadata": {
        "id": "vAgYkJvzEADY"
      }
    },
    {
      "cell_type": "markdown",
      "source": [
        "### Para observar el verdadero rendimiento del modelo usaremos el set de prueba"
      ],
      "metadata": {
        "id": "Zsa16gl4Ecee"
      }
    },
    {
      "cell_type": "code",
      "source": [
        "# SVM\n",
        "\n",
        "resultado_svm = diabetes_svm.predict(test_set)\n",
        "result = 0\n",
        "error = 0\n",
        "for i in range(len(resultado_svm)):\n",
        "  if resultado_svm[i] == y_test[i]:\n",
        "    result += 1\n",
        "  else:\n",
        "    error += 1\n",
        "print('De las ',len(resultado_svm), ' muestras, ', result, ' son correctas y ', error, ' son erroneas')\n",
        "print('Porcentaje de acierto: ', result/len(resultado_svm))"
      ],
      "metadata": {
        "id": "H6ta4TDVEgDK",
        "colab": {
          "base_uri": "https://localhost:8080/"
        },
        "outputId": "5c128351-d25c-43a8-c928-14101f1b7e04"
      },
      "execution_count": 30,
      "outputs": [
        {
          "output_type": "stream",
          "name": "stdout",
          "text": [
            "De las  267  muestras,  206  son correctas y  61  son erroneas\n",
            "Porcentaje de acierto:  0.7715355805243446\n"
          ]
        }
      ]
    },
    {
      "cell_type": "code",
      "source": [
        "# Arbol de decision\n",
        "\n",
        "resultado_dt = diabetes_dt.predict(test_set)\n",
        "result = 0\n",
        "error = 0\n",
        "for i in range(len(resultado_dt)):\n",
        "  if resultado_dt[i] == y_test[i]:\n",
        "    result += 1\n",
        "  else:\n",
        "    error += 1\n",
        "print('De las ',len(resultado_dt), ' muestras, ', result, ' son correctas y ', error, ' son erroneas')\n",
        "print('Porcentaje de acierto: ', result/len(resultado_dt))"
      ],
      "metadata": {
        "id": "npkH7FsPEpQd",
        "colab": {
          "base_uri": "https://localhost:8080/"
        },
        "outputId": "7fc45e63-66d5-4104-85a5-81ab2ad59fd9"
      },
      "execution_count": 31,
      "outputs": [
        {
          "output_type": "stream",
          "name": "stdout",
          "text": [
            "De las  267  muestras,  196  son correctas y  71  son erroneas\n",
            "Porcentaje de acierto:  0.7340823970037453\n"
          ]
        }
      ]
    },
    {
      "cell_type": "code",
      "source": [
        "# Perceptron multicapa\n",
        "\n",
        "resultado_mlp = diabetes_mlp.predict(test_set)\n",
        "result = 0\n",
        "error = 0\n",
        "for i in range(len(resultado_mlp)):\n",
        "  if resultado_mlp[i] == y_test[i]:\n",
        "    result += 1\n",
        "  else:\n",
        "    error += 1\n",
        "print('De las ',len(resultado_mlp), ' muestras, ', result, ' son correctas y ', error, ' son erroneas')\n",
        "print('Porcentaje de acierto: ', result/len(resultado_mlp))"
      ],
      "metadata": {
        "id": "ZivxFui_Ey_K",
        "colab": {
          "base_uri": "https://localhost:8080/"
        },
        "outputId": "0c8d7f4e-8a62-4bee-a33c-887c384a31fd"
      },
      "execution_count": 32,
      "outputs": [
        {
          "output_type": "stream",
          "name": "stdout",
          "text": [
            "De las  267  muestras,  176  son correctas y  91  son erroneas\n",
            "Porcentaje de acierto:  0.6591760299625468\n"
          ]
        }
      ]
    }
  ]
}